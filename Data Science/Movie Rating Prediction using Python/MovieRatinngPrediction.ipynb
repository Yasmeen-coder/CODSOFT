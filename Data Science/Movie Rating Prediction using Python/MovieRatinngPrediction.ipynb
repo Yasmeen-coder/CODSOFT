{
 "cells": [
  {
   "cell_type": "markdown",
   "id": "812e7d76-69a3-43b6-89ca-81f948f06b2a",
   "metadata": {},
   "source": [
    "Task-2 \n",
    "Movie Rating prediction using Python"
   ]
  },
  {
   "cell_type": "markdown",
   "id": "adec6081-2453-45c8-b65e-fe4095f184cc",
   "metadata": {},
   "source": [
    "import necessary libraries"
   ]
  },
  {
   "cell_type": "code",
   "execution_count": 93,
   "id": "302b8431-a70b-4b3a-8542-7add7513dc74",
   "metadata": {},
   "outputs": [],
   "source": [
    "import pandas as pd \n",
    "import numpy as np\n",
    "import seaborn as sns\n",
    "import matplotlib.pyplot as plt"
   ]
  },
  {
   "cell_type": "markdown",
   "id": "8a8f4513-bb86-4e49-8543-c8a81b485239",
   "metadata": {},
   "source": [
    "Read the IMDB movie dataset"
   ]
  },
  {
   "cell_type": "code",
   "execution_count": 94,
   "id": "c48a0538-712f-4c16-a3be-b5c0656def20",
   "metadata": {},
   "outputs": [],
   "source": [
    "imdbdataset = pd.read_csv(r'C:\\Users\\RGUKT\\Documents\\CODSOFT\\data science task 2\\IMDbMoviesIndia.csv', encoding = 'latin1')"
   ]
  },
  {
   "cell_type": "code",
   "execution_count": 95,
   "id": "50dff183-59dc-4d2a-b934-d6faed143b39",
   "metadata": {
    "scrolled": true
   },
   "outputs": [
    {
     "data": {
      "text/html": [
       "<div>\n",
       "<style scoped>\n",
       "    .dataframe tbody tr th:only-of-type {\n",
       "        vertical-align: middle;\n",
       "    }\n",
       "\n",
       "    .dataframe tbody tr th {\n",
       "        vertical-align: top;\n",
       "    }\n",
       "\n",
       "    .dataframe thead th {\n",
       "        text-align: right;\n",
       "    }\n",
       "</style>\n",
       "<table border=\"1\" class=\"dataframe\">\n",
       "  <thead>\n",
       "    <tr style=\"text-align: right;\">\n",
       "      <th></th>\n",
       "      <th>Name</th>\n",
       "      <th>Year</th>\n",
       "      <th>Duration</th>\n",
       "      <th>Genre</th>\n",
       "      <th>Rating</th>\n",
       "      <th>Votes</th>\n",
       "      <th>Director</th>\n",
       "      <th>Actor 1</th>\n",
       "      <th>Actor 2</th>\n",
       "      <th>Actor 3</th>\n",
       "    </tr>\n",
       "  </thead>\n",
       "  <tbody>\n",
       "    <tr>\n",
       "      <th>0</th>\n",
       "      <td></td>\n",
       "      <td>NaN</td>\n",
       "      <td>NaN</td>\n",
       "      <td>Drama</td>\n",
       "      <td>NaN</td>\n",
       "      <td>NaN</td>\n",
       "      <td>J.S. Randhawa</td>\n",
       "      <td>Manmauji</td>\n",
       "      <td>Birbal</td>\n",
       "      <td>Rajendra Bhatia</td>\n",
       "    </tr>\n",
       "    <tr>\n",
       "      <th>1</th>\n",
       "      <td>#Gadhvi (He thought he was Gandhi)</td>\n",
       "      <td>(2019)</td>\n",
       "      <td>109 min</td>\n",
       "      <td>Drama</td>\n",
       "      <td>7.0</td>\n",
       "      <td>8</td>\n",
       "      <td>Gaurav Bakshi</td>\n",
       "      <td>Rasika Dugal</td>\n",
       "      <td>Vivek Ghamande</td>\n",
       "      <td>Arvind Jangid</td>\n",
       "    </tr>\n",
       "    <tr>\n",
       "      <th>2</th>\n",
       "      <td>#Homecoming</td>\n",
       "      <td>(2021)</td>\n",
       "      <td>90 min</td>\n",
       "      <td>Drama, Musical</td>\n",
       "      <td>NaN</td>\n",
       "      <td>NaN</td>\n",
       "      <td>Soumyajit Majumdar</td>\n",
       "      <td>Sayani Gupta</td>\n",
       "      <td>Plabita Borthakur</td>\n",
       "      <td>Roy Angana</td>\n",
       "    </tr>\n",
       "    <tr>\n",
       "      <th>3</th>\n",
       "      <td>#Yaaram</td>\n",
       "      <td>(2019)</td>\n",
       "      <td>110 min</td>\n",
       "      <td>Comedy, Romance</td>\n",
       "      <td>4.4</td>\n",
       "      <td>35</td>\n",
       "      <td>Ovais Khan</td>\n",
       "      <td>Prateik</td>\n",
       "      <td>Ishita Raj</td>\n",
       "      <td>Siddhant Kapoor</td>\n",
       "    </tr>\n",
       "    <tr>\n",
       "      <th>4</th>\n",
       "      <td>...And Once Again</td>\n",
       "      <td>(2010)</td>\n",
       "      <td>105 min</td>\n",
       "      <td>Drama</td>\n",
       "      <td>NaN</td>\n",
       "      <td>NaN</td>\n",
       "      <td>Amol Palekar</td>\n",
       "      <td>Rajat Kapoor</td>\n",
       "      <td>Rituparna Sengupta</td>\n",
       "      <td>Antara Mali</td>\n",
       "    </tr>\n",
       "    <tr>\n",
       "      <th>...</th>\n",
       "      <td>...</td>\n",
       "      <td>...</td>\n",
       "      <td>...</td>\n",
       "      <td>...</td>\n",
       "      <td>...</td>\n",
       "      <td>...</td>\n",
       "      <td>...</td>\n",
       "      <td>...</td>\n",
       "      <td>...</td>\n",
       "      <td>...</td>\n",
       "    </tr>\n",
       "    <tr>\n",
       "      <th>15504</th>\n",
       "      <td>Zulm Ko Jala Doonga</td>\n",
       "      <td>(1988)</td>\n",
       "      <td>NaN</td>\n",
       "      <td>Action</td>\n",
       "      <td>4.6</td>\n",
       "      <td>11</td>\n",
       "      <td>Mahendra Shah</td>\n",
       "      <td>Naseeruddin Shah</td>\n",
       "      <td>Sumeet Saigal</td>\n",
       "      <td>Suparna Anand</td>\n",
       "    </tr>\n",
       "    <tr>\n",
       "      <th>15505</th>\n",
       "      <td>Zulmi</td>\n",
       "      <td>(1999)</td>\n",
       "      <td>129 min</td>\n",
       "      <td>Action, Drama</td>\n",
       "      <td>4.5</td>\n",
       "      <td>655</td>\n",
       "      <td>Kuku Kohli</td>\n",
       "      <td>Akshay Kumar</td>\n",
       "      <td>Twinkle Khanna</td>\n",
       "      <td>Aruna Irani</td>\n",
       "    </tr>\n",
       "    <tr>\n",
       "      <th>15506</th>\n",
       "      <td>Zulmi Raj</td>\n",
       "      <td>(2005)</td>\n",
       "      <td>NaN</td>\n",
       "      <td>Action</td>\n",
       "      <td>NaN</td>\n",
       "      <td>NaN</td>\n",
       "      <td>Kiran Thej</td>\n",
       "      <td>Sangeeta Tiwari</td>\n",
       "      <td>NaN</td>\n",
       "      <td>NaN</td>\n",
       "    </tr>\n",
       "    <tr>\n",
       "      <th>15507</th>\n",
       "      <td>Zulmi Shikari</td>\n",
       "      <td>(1988)</td>\n",
       "      <td>NaN</td>\n",
       "      <td>Action</td>\n",
       "      <td>NaN</td>\n",
       "      <td>NaN</td>\n",
       "      <td>NaN</td>\n",
       "      <td>NaN</td>\n",
       "      <td>NaN</td>\n",
       "      <td>NaN</td>\n",
       "    </tr>\n",
       "    <tr>\n",
       "      <th>15508</th>\n",
       "      <td>Zulm-O-Sitam</td>\n",
       "      <td>(1998)</td>\n",
       "      <td>130 min</td>\n",
       "      <td>Action, Drama</td>\n",
       "      <td>6.2</td>\n",
       "      <td>20</td>\n",
       "      <td>K.C. Bokadia</td>\n",
       "      <td>Dharmendra</td>\n",
       "      <td>Jaya Prada</td>\n",
       "      <td>Arjun Sarja</td>\n",
       "    </tr>\n",
       "  </tbody>\n",
       "</table>\n",
       "<p>15509 rows × 10 columns</p>\n",
       "</div>"
      ],
      "text/plain": [
       "                                     Name    Year Duration            Genre  \\\n",
       "0                                             NaN      NaN            Drama   \n",
       "1      #Gadhvi (He thought he was Gandhi)  (2019)  109 min            Drama   \n",
       "2                             #Homecoming  (2021)   90 min   Drama, Musical   \n",
       "3                                 #Yaaram  (2019)  110 min  Comedy, Romance   \n",
       "4                       ...And Once Again  (2010)  105 min            Drama   \n",
       "...                                   ...     ...      ...              ...   \n",
       "15504                 Zulm Ko Jala Doonga  (1988)      NaN           Action   \n",
       "15505                               Zulmi  (1999)  129 min    Action, Drama   \n",
       "15506                           Zulmi Raj  (2005)      NaN           Action   \n",
       "15507                       Zulmi Shikari  (1988)      NaN           Action   \n",
       "15508                        Zulm-O-Sitam  (1998)  130 min    Action, Drama   \n",
       "\n",
       "       Rating Votes            Director           Actor 1             Actor 2  \\\n",
       "0         NaN   NaN       J.S. Randhawa          Manmauji              Birbal   \n",
       "1         7.0     8       Gaurav Bakshi      Rasika Dugal      Vivek Ghamande   \n",
       "2         NaN   NaN  Soumyajit Majumdar      Sayani Gupta   Plabita Borthakur   \n",
       "3         4.4    35          Ovais Khan           Prateik          Ishita Raj   \n",
       "4         NaN   NaN        Amol Palekar      Rajat Kapoor  Rituparna Sengupta   \n",
       "...       ...   ...                 ...               ...                 ...   \n",
       "15504     4.6    11       Mahendra Shah  Naseeruddin Shah       Sumeet Saigal   \n",
       "15505     4.5   655          Kuku Kohli      Akshay Kumar      Twinkle Khanna   \n",
       "15506     NaN   NaN          Kiran Thej   Sangeeta Tiwari                 NaN   \n",
       "15507     NaN   NaN                 NaN               NaN                 NaN   \n",
       "15508     6.2    20        K.C. Bokadia        Dharmendra          Jaya Prada   \n",
       "\n",
       "               Actor 3  \n",
       "0      Rajendra Bhatia  \n",
       "1        Arvind Jangid  \n",
       "2           Roy Angana  \n",
       "3      Siddhant Kapoor  \n",
       "4          Antara Mali  \n",
       "...                ...  \n",
       "15504    Suparna Anand  \n",
       "15505      Aruna Irani  \n",
       "15506              NaN  \n",
       "15507              NaN  \n",
       "15508      Arjun Sarja  \n",
       "\n",
       "[15509 rows x 10 columns]"
      ]
     },
     "execution_count": 95,
     "metadata": {},
     "output_type": "execute_result"
    }
   ],
   "source": [
    "imdbdataset"
   ]
  },
  {
   "cell_type": "markdown",
   "id": "3e331561-0843-458d-a313-a351892f9efa",
   "metadata": {},
   "source": [
    "Check Rows and columns of the dataset"
   ]
  },
  {
   "cell_type": "code",
   "execution_count": 96,
   "id": "021242e2-0abd-4a9c-a161-dfa48b76384e",
   "metadata": {},
   "outputs": [
    {
     "data": {
      "text/plain": [
       "15509"
      ]
     },
     "execution_count": 96,
     "metadata": {},
     "output_type": "execute_result"
    }
   ],
   "source": [
    "imdbdataset.shape[0]"
   ]
  },
  {
   "cell_type": "code",
   "execution_count": 97,
   "id": "2fb95b1b-6819-4b3c-b0ae-bd7121da969b",
   "metadata": {},
   "outputs": [
    {
     "data": {
      "text/plain": [
       "10"
      ]
     },
     "execution_count": 97,
     "metadata": {},
     "output_type": "execute_result"
    }
   ],
   "source": [
    "imdbdataset.shape[1]"
   ]
  },
  {
   "cell_type": "markdown",
   "id": "11dbad5f-f675-481c-b0b0-35d23f6b2079",
   "metadata": {},
   "source": [
    "imfo of the dataset"
   ]
  },
  {
   "cell_type": "code",
   "execution_count": 98,
   "id": "ec0e82bb-b483-40da-8985-33ee662f4d81",
   "metadata": {},
   "outputs": [
    {
     "name": "stdout",
     "output_type": "stream",
     "text": [
      "<class 'pandas.core.frame.DataFrame'>\n",
      "RangeIndex: 15509 entries, 0 to 15508\n",
      "Data columns (total 10 columns):\n",
      " #   Column    Non-Null Count  Dtype  \n",
      "---  ------    --------------  -----  \n",
      " 0   Name      15509 non-null  object \n",
      " 1   Year      14981 non-null  object \n",
      " 2   Duration  7240 non-null   object \n",
      " 3   Genre     13632 non-null  object \n",
      " 4   Rating    7919 non-null   float64\n",
      " 5   Votes     7920 non-null   object \n",
      " 6   Director  14984 non-null  object \n",
      " 7   Actor 1   13892 non-null  object \n",
      " 8   Actor 2   13125 non-null  object \n",
      " 9   Actor 3   12365 non-null  object \n",
      "dtypes: float64(1), object(9)\n",
      "memory usage: 1.2+ MB\n"
     ]
    }
   ],
   "source": [
    "imdbdataset.info()"
   ]
  },
  {
   "cell_type": "markdown",
   "id": "b6f87ee2-110f-4cd8-8ace-a7a1702d6c31",
   "metadata": {},
   "source": [
    "check the missing values"
   ]
  },
  {
   "cell_type": "code",
   "execution_count": 99,
   "id": "7e35a8d2-87bd-4e7e-b1d0-8dc861b8c2eb",
   "metadata": {},
   "outputs": [
    {
     "data": {
      "text/plain": [
       "Name           0\n",
       "Year         528\n",
       "Duration    8269\n",
       "Genre       1877\n",
       "Rating      7590\n",
       "Votes       7589\n",
       "Director     525\n",
       "Actor 1     1617\n",
       "Actor 2     2384\n",
       "Actor 3     3144\n",
       "dtype: int64"
      ]
     },
     "execution_count": 99,
     "metadata": {},
     "output_type": "execute_result"
    }
   ],
   "source": [
    "imdbdataset.isnull().sum()"
   ]
  },
  {
   "cell_type": "markdown",
   "id": "c2cb4109-f87a-4685-be81-8a4f228a00b9",
   "metadata": {},
   "source": [
    "Drop the missing values"
   ]
  },
  {
   "cell_type": "code",
   "execution_count": 100,
   "id": "cbfe9f12-ce04-44ad-a25a-1cfaa2ef5165",
   "metadata": {},
   "outputs": [],
   "source": [
    "imdbdataset=imdbdataset.dropna(axis=0)"
   ]
  },
  {
   "cell_type": "code",
   "execution_count": 101,
   "id": "8feccdb2-d648-4399-8ad8-157457062b72",
   "metadata": {},
   "outputs": [
    {
     "data": {
      "text/html": [
       "<div>\n",
       "<style scoped>\n",
       "    .dataframe tbody tr th:only-of-type {\n",
       "        vertical-align: middle;\n",
       "    }\n",
       "\n",
       "    .dataframe tbody tr th {\n",
       "        vertical-align: top;\n",
       "    }\n",
       "\n",
       "    .dataframe thead th {\n",
       "        text-align: right;\n",
       "    }\n",
       "</style>\n",
       "<table border=\"1\" class=\"dataframe\">\n",
       "  <thead>\n",
       "    <tr style=\"text-align: right;\">\n",
       "      <th></th>\n",
       "      <th>Name</th>\n",
       "      <th>Year</th>\n",
       "      <th>Duration</th>\n",
       "      <th>Genre</th>\n",
       "      <th>Rating</th>\n",
       "      <th>Votes</th>\n",
       "      <th>Director</th>\n",
       "      <th>Actor 1</th>\n",
       "      <th>Actor 2</th>\n",
       "      <th>Actor 3</th>\n",
       "    </tr>\n",
       "  </thead>\n",
       "  <tbody>\n",
       "    <tr>\n",
       "      <th>1</th>\n",
       "      <td>#Gadhvi (He thought he was Gandhi)</td>\n",
       "      <td>(2019)</td>\n",
       "      <td>109 min</td>\n",
       "      <td>Drama</td>\n",
       "      <td>7.0</td>\n",
       "      <td>8</td>\n",
       "      <td>Gaurav Bakshi</td>\n",
       "      <td>Rasika Dugal</td>\n",
       "      <td>Vivek Ghamande</td>\n",
       "      <td>Arvind Jangid</td>\n",
       "    </tr>\n",
       "    <tr>\n",
       "      <th>3</th>\n",
       "      <td>#Yaaram</td>\n",
       "      <td>(2019)</td>\n",
       "      <td>110 min</td>\n",
       "      <td>Comedy, Romance</td>\n",
       "      <td>4.4</td>\n",
       "      <td>35</td>\n",
       "      <td>Ovais Khan</td>\n",
       "      <td>Prateik</td>\n",
       "      <td>Ishita Raj</td>\n",
       "      <td>Siddhant Kapoor</td>\n",
       "    </tr>\n",
       "    <tr>\n",
       "      <th>5</th>\n",
       "      <td>...Aur Pyaar Ho Gaya</td>\n",
       "      <td>(1997)</td>\n",
       "      <td>147 min</td>\n",
       "      <td>Comedy, Drama, Musical</td>\n",
       "      <td>4.7</td>\n",
       "      <td>827</td>\n",
       "      <td>Rahul Rawail</td>\n",
       "      <td>Bobby Deol</td>\n",
       "      <td>Aishwarya Rai Bachchan</td>\n",
       "      <td>Shammi Kapoor</td>\n",
       "    </tr>\n",
       "    <tr>\n",
       "      <th>6</th>\n",
       "      <td>...Yahaan</td>\n",
       "      <td>(2005)</td>\n",
       "      <td>142 min</td>\n",
       "      <td>Drama, Romance, War</td>\n",
       "      <td>7.4</td>\n",
       "      <td>1,086</td>\n",
       "      <td>Shoojit Sircar</td>\n",
       "      <td>Jimmy Sheirgill</td>\n",
       "      <td>Minissha Lamba</td>\n",
       "      <td>Yashpal Sharma</td>\n",
       "    </tr>\n",
       "    <tr>\n",
       "      <th>8</th>\n",
       "      <td>?: A Question Mark</td>\n",
       "      <td>(2012)</td>\n",
       "      <td>82 min</td>\n",
       "      <td>Horror, Mystery, Thriller</td>\n",
       "      <td>5.6</td>\n",
       "      <td>326</td>\n",
       "      <td>Allyson Patel</td>\n",
       "      <td>Yash Dave</td>\n",
       "      <td>Muntazir Ahmad</td>\n",
       "      <td>Kiran Bhatia</td>\n",
       "    </tr>\n",
       "    <tr>\n",
       "      <th>...</th>\n",
       "      <td>...</td>\n",
       "      <td>...</td>\n",
       "      <td>...</td>\n",
       "      <td>...</td>\n",
       "      <td>...</td>\n",
       "      <td>...</td>\n",
       "      <td>...</td>\n",
       "      <td>...</td>\n",
       "      <td>...</td>\n",
       "      <td>...</td>\n",
       "    </tr>\n",
       "    <tr>\n",
       "      <th>15493</th>\n",
       "      <td>Zubaan</td>\n",
       "      <td>(2015)</td>\n",
       "      <td>115 min</td>\n",
       "      <td>Drama</td>\n",
       "      <td>6.1</td>\n",
       "      <td>408</td>\n",
       "      <td>Mozez Singh</td>\n",
       "      <td>Vicky Kaushal</td>\n",
       "      <td>Sarah Jane Dias</td>\n",
       "      <td>Raaghavv Chanana</td>\n",
       "    </tr>\n",
       "    <tr>\n",
       "      <th>15494</th>\n",
       "      <td>Zubeidaa</td>\n",
       "      <td>(2001)</td>\n",
       "      <td>153 min</td>\n",
       "      <td>Biography, Drama, History</td>\n",
       "      <td>6.2</td>\n",
       "      <td>1,496</td>\n",
       "      <td>Shyam Benegal</td>\n",
       "      <td>Karisma Kapoor</td>\n",
       "      <td>Rekha</td>\n",
       "      <td>Manoj Bajpayee</td>\n",
       "    </tr>\n",
       "    <tr>\n",
       "      <th>15503</th>\n",
       "      <td>Zulm Ki Zanjeer</td>\n",
       "      <td>(1989)</td>\n",
       "      <td>125 min</td>\n",
       "      <td>Action, Crime, Drama</td>\n",
       "      <td>5.8</td>\n",
       "      <td>44</td>\n",
       "      <td>S.P. Muthuraman</td>\n",
       "      <td>Chiranjeevi</td>\n",
       "      <td>Jayamalini</td>\n",
       "      <td>Rajinikanth</td>\n",
       "    </tr>\n",
       "    <tr>\n",
       "      <th>15505</th>\n",
       "      <td>Zulmi</td>\n",
       "      <td>(1999)</td>\n",
       "      <td>129 min</td>\n",
       "      <td>Action, Drama</td>\n",
       "      <td>4.5</td>\n",
       "      <td>655</td>\n",
       "      <td>Kuku Kohli</td>\n",
       "      <td>Akshay Kumar</td>\n",
       "      <td>Twinkle Khanna</td>\n",
       "      <td>Aruna Irani</td>\n",
       "    </tr>\n",
       "    <tr>\n",
       "      <th>15508</th>\n",
       "      <td>Zulm-O-Sitam</td>\n",
       "      <td>(1998)</td>\n",
       "      <td>130 min</td>\n",
       "      <td>Action, Drama</td>\n",
       "      <td>6.2</td>\n",
       "      <td>20</td>\n",
       "      <td>K.C. Bokadia</td>\n",
       "      <td>Dharmendra</td>\n",
       "      <td>Jaya Prada</td>\n",
       "      <td>Arjun Sarja</td>\n",
       "    </tr>\n",
       "  </tbody>\n",
       "</table>\n",
       "<p>5659 rows × 10 columns</p>\n",
       "</div>"
      ],
      "text/plain": [
       "                                     Name    Year Duration  \\\n",
       "1      #Gadhvi (He thought he was Gandhi)  (2019)  109 min   \n",
       "3                                 #Yaaram  (2019)  110 min   \n",
       "5                    ...Aur Pyaar Ho Gaya  (1997)  147 min   \n",
       "6                               ...Yahaan  (2005)  142 min   \n",
       "8                      ?: A Question Mark  (2012)   82 min   \n",
       "...                                   ...     ...      ...   \n",
       "15493                              Zubaan  (2015)  115 min   \n",
       "15494                            Zubeidaa  (2001)  153 min   \n",
       "15503                     Zulm Ki Zanjeer  (1989)  125 min   \n",
       "15505                               Zulmi  (1999)  129 min   \n",
       "15508                        Zulm-O-Sitam  (1998)  130 min   \n",
       "\n",
       "                           Genre  Rating  Votes         Director  \\\n",
       "1                          Drama     7.0      8    Gaurav Bakshi   \n",
       "3                Comedy, Romance     4.4     35       Ovais Khan   \n",
       "5         Comedy, Drama, Musical     4.7    827     Rahul Rawail   \n",
       "6            Drama, Romance, War     7.4  1,086   Shoojit Sircar   \n",
       "8      Horror, Mystery, Thriller     5.6    326    Allyson Patel   \n",
       "...                          ...     ...    ...              ...   \n",
       "15493                      Drama     6.1    408      Mozez Singh   \n",
       "15494  Biography, Drama, History     6.2  1,496    Shyam Benegal   \n",
       "15503       Action, Crime, Drama     5.8     44  S.P. Muthuraman   \n",
       "15505              Action, Drama     4.5    655       Kuku Kohli   \n",
       "15508              Action, Drama     6.2     20     K.C. Bokadia   \n",
       "\n",
       "               Actor 1                 Actor 2           Actor 3  \n",
       "1         Rasika Dugal          Vivek Ghamande     Arvind Jangid  \n",
       "3              Prateik              Ishita Raj   Siddhant Kapoor  \n",
       "5           Bobby Deol  Aishwarya Rai Bachchan     Shammi Kapoor  \n",
       "6      Jimmy Sheirgill          Minissha Lamba    Yashpal Sharma  \n",
       "8            Yash Dave          Muntazir Ahmad      Kiran Bhatia  \n",
       "...                ...                     ...               ...  \n",
       "15493    Vicky Kaushal         Sarah Jane Dias  Raaghavv Chanana  \n",
       "15494   Karisma Kapoor                   Rekha    Manoj Bajpayee  \n",
       "15503      Chiranjeevi              Jayamalini       Rajinikanth  \n",
       "15505     Akshay Kumar          Twinkle Khanna       Aruna Irani  \n",
       "15508       Dharmendra              Jaya Prada       Arjun Sarja  \n",
       "\n",
       "[5659 rows x 10 columns]"
      ]
     },
     "execution_count": 101,
     "metadata": {},
     "output_type": "execute_result"
    }
   ],
   "source": [
    "imdbdataset"
   ]
  },
  {
   "cell_type": "markdown",
   "id": "10c311f4-f689-4686-b079-e32167ed067f",
   "metadata": {},
   "source": [
    "Check for duplicate data"
   ]
  },
  {
   "cell_type": "code",
   "execution_count": 102,
   "id": "993568a5-50c7-4fbe-9471-9b932cb97dc9",
   "metadata": {},
   "outputs": [],
   "source": [
    "dup_imdbdataset=imdbdataset.duplicated().any()"
   ]
  },
  {
   "cell_type": "code",
   "execution_count": 103,
   "id": "3c0b1115-2af8-405f-b2e3-3c2353c80d60",
   "metadata": {},
   "outputs": [
    {
     "name": "stdout",
     "output_type": "stream",
     "text": [
      "any duplicate data:  False\n"
     ]
    }
   ],
   "source": [
    "print('any duplicate data: ',dup_imdbdataset)"
   ]
  },
  {
   "cell_type": "markdown",
   "id": "5ad48411-15aa-4d65-8ee1-5f7afe046cd0",
   "metadata": {},
   "source": [
    "statistics of dataset"
   ]
  },
  {
   "cell_type": "code",
   "execution_count": 104,
   "id": "c0e86b6e-c2ef-49c4-9527-14022f474a50",
   "metadata": {
    "scrolled": true
   },
   "outputs": [
    {
     "data": {
      "text/html": [
       "<div>\n",
       "<style scoped>\n",
       "    .dataframe tbody tr th:only-of-type {\n",
       "        vertical-align: middle;\n",
       "    }\n",
       "\n",
       "    .dataframe tbody tr th {\n",
       "        vertical-align: top;\n",
       "    }\n",
       "\n",
       "    .dataframe thead th {\n",
       "        text-align: right;\n",
       "    }\n",
       "</style>\n",
       "<table border=\"1\" class=\"dataframe\">\n",
       "  <thead>\n",
       "    <tr style=\"text-align: right;\">\n",
       "      <th></th>\n",
       "      <th>Name</th>\n",
       "      <th>Year</th>\n",
       "      <th>Duration</th>\n",
       "      <th>Genre</th>\n",
       "      <th>Rating</th>\n",
       "      <th>Votes</th>\n",
       "      <th>Director</th>\n",
       "      <th>Actor 1</th>\n",
       "      <th>Actor 2</th>\n",
       "      <th>Actor 3</th>\n",
       "    </tr>\n",
       "  </thead>\n",
       "  <tbody>\n",
       "    <tr>\n",
       "      <th>count</th>\n",
       "      <td>5659</td>\n",
       "      <td>5659</td>\n",
       "      <td>5659</td>\n",
       "      <td>5659</td>\n",
       "      <td>5659.000000</td>\n",
       "      <td>5659</td>\n",
       "      <td>5659</td>\n",
       "      <td>5659</td>\n",
       "      <td>5659</td>\n",
       "      <td>5659</td>\n",
       "    </tr>\n",
       "    <tr>\n",
       "      <th>unique</th>\n",
       "      <td>5385</td>\n",
       "      <td>91</td>\n",
       "      <td>174</td>\n",
       "      <td>376</td>\n",
       "      <td>NaN</td>\n",
       "      <td>2027</td>\n",
       "      <td>2431</td>\n",
       "      <td>1960</td>\n",
       "      <td>2321</td>\n",
       "      <td>2556</td>\n",
       "    </tr>\n",
       "    <tr>\n",
       "      <th>top</th>\n",
       "      <td>Baazi</td>\n",
       "      <td>(2019)</td>\n",
       "      <td>120 min</td>\n",
       "      <td>Drama</td>\n",
       "      <td>NaN</td>\n",
       "      <td>7</td>\n",
       "      <td>David Dhawan</td>\n",
       "      <td>Amitabh Bachchan</td>\n",
       "      <td>Rekha</td>\n",
       "      <td>Pran</td>\n",
       "    </tr>\n",
       "    <tr>\n",
       "      <th>freq</th>\n",
       "      <td>4</td>\n",
       "      <td>227</td>\n",
       "      <td>169</td>\n",
       "      <td>844</td>\n",
       "      <td>NaN</td>\n",
       "      <td>90</td>\n",
       "      <td>41</td>\n",
       "      <td>104</td>\n",
       "      <td>52</td>\n",
       "      <td>57</td>\n",
       "    </tr>\n",
       "    <tr>\n",
       "      <th>mean</th>\n",
       "      <td>NaN</td>\n",
       "      <td>NaN</td>\n",
       "      <td>NaN</td>\n",
       "      <td>NaN</td>\n",
       "      <td>5.898533</td>\n",
       "      <td>NaN</td>\n",
       "      <td>NaN</td>\n",
       "      <td>NaN</td>\n",
       "      <td>NaN</td>\n",
       "      <td>NaN</td>\n",
       "    </tr>\n",
       "    <tr>\n",
       "      <th>std</th>\n",
       "      <td>NaN</td>\n",
       "      <td>NaN</td>\n",
       "      <td>NaN</td>\n",
       "      <td>NaN</td>\n",
       "      <td>1.381165</td>\n",
       "      <td>NaN</td>\n",
       "      <td>NaN</td>\n",
       "      <td>NaN</td>\n",
       "      <td>NaN</td>\n",
       "      <td>NaN</td>\n",
       "    </tr>\n",
       "    <tr>\n",
       "      <th>min</th>\n",
       "      <td>NaN</td>\n",
       "      <td>NaN</td>\n",
       "      <td>NaN</td>\n",
       "      <td>NaN</td>\n",
       "      <td>1.100000</td>\n",
       "      <td>NaN</td>\n",
       "      <td>NaN</td>\n",
       "      <td>NaN</td>\n",
       "      <td>NaN</td>\n",
       "      <td>NaN</td>\n",
       "    </tr>\n",
       "    <tr>\n",
       "      <th>25%</th>\n",
       "      <td>NaN</td>\n",
       "      <td>NaN</td>\n",
       "      <td>NaN</td>\n",
       "      <td>NaN</td>\n",
       "      <td>5.000000</td>\n",
       "      <td>NaN</td>\n",
       "      <td>NaN</td>\n",
       "      <td>NaN</td>\n",
       "      <td>NaN</td>\n",
       "      <td>NaN</td>\n",
       "    </tr>\n",
       "    <tr>\n",
       "      <th>50%</th>\n",
       "      <td>NaN</td>\n",
       "      <td>NaN</td>\n",
       "      <td>NaN</td>\n",
       "      <td>NaN</td>\n",
       "      <td>6.100000</td>\n",
       "      <td>NaN</td>\n",
       "      <td>NaN</td>\n",
       "      <td>NaN</td>\n",
       "      <td>NaN</td>\n",
       "      <td>NaN</td>\n",
       "    </tr>\n",
       "    <tr>\n",
       "      <th>75%</th>\n",
       "      <td>NaN</td>\n",
       "      <td>NaN</td>\n",
       "      <td>NaN</td>\n",
       "      <td>NaN</td>\n",
       "      <td>6.900000</td>\n",
       "      <td>NaN</td>\n",
       "      <td>NaN</td>\n",
       "      <td>NaN</td>\n",
       "      <td>NaN</td>\n",
       "      <td>NaN</td>\n",
       "    </tr>\n",
       "    <tr>\n",
       "      <th>max</th>\n",
       "      <td>NaN</td>\n",
       "      <td>NaN</td>\n",
       "      <td>NaN</td>\n",
       "      <td>NaN</td>\n",
       "      <td>10.000000</td>\n",
       "      <td>NaN</td>\n",
       "      <td>NaN</td>\n",
       "      <td>NaN</td>\n",
       "      <td>NaN</td>\n",
       "      <td>NaN</td>\n",
       "    </tr>\n",
       "  </tbody>\n",
       "</table>\n",
       "</div>"
      ],
      "text/plain": [
       "         Name    Year Duration  Genre       Rating Votes      Director  \\\n",
       "count    5659    5659     5659   5659  5659.000000  5659          5659   \n",
       "unique   5385      91      174    376          NaN  2027          2431   \n",
       "top     Baazi  (2019)  120 min  Drama          NaN     7  David Dhawan   \n",
       "freq        4     227      169    844          NaN    90            41   \n",
       "mean      NaN     NaN      NaN    NaN     5.898533   NaN           NaN   \n",
       "std       NaN     NaN      NaN    NaN     1.381165   NaN           NaN   \n",
       "min       NaN     NaN      NaN    NaN     1.100000   NaN           NaN   \n",
       "25%       NaN     NaN      NaN    NaN     5.000000   NaN           NaN   \n",
       "50%       NaN     NaN      NaN    NaN     6.100000   NaN           NaN   \n",
       "75%       NaN     NaN      NaN    NaN     6.900000   NaN           NaN   \n",
       "max       NaN     NaN      NaN    NaN    10.000000   NaN           NaN   \n",
       "\n",
       "                 Actor 1 Actor 2 Actor 3  \n",
       "count               5659    5659    5659  \n",
       "unique              1960    2321    2556  \n",
       "top     Amitabh Bachchan   Rekha    Pran  \n",
       "freq                 104      52      57  \n",
       "mean                 NaN     NaN     NaN  \n",
       "std                  NaN     NaN     NaN  \n",
       "min                  NaN     NaN     NaN  \n",
       "25%                  NaN     NaN     NaN  \n",
       "50%                  NaN     NaN     NaN  \n",
       "75%                  NaN     NaN     NaN  \n",
       "max                  NaN     NaN     NaN  "
      ]
     },
     "execution_count": 104,
     "metadata": {},
     "output_type": "execute_result"
    }
   ],
   "source": [
    "imdbdataset.describe(include='all')"
   ]
  },
  {
   "cell_type": "markdown",
   "id": "c9cdcb92-28a1-4b72-b6fc-696672063491",
   "metadata": {},
   "source": [
    "replacing the brackets from year column"
   ]
  },
  {
   "cell_type": "code",
   "execution_count": 105,
   "id": "43b628bd-803a-47d1-b97d-50b10f5e8e0b",
   "metadata": {},
   "outputs": [
    {
     "name": "stderr",
     "output_type": "stream",
     "text": [
      "C:\\Users\\RGUKT\\AppData\\Local\\Temp\\ipykernel_6132\\1023117693.py:1: SettingWithCopyWarning: \n",
      "A value is trying to be set on a copy of a slice from a DataFrame.\n",
      "Try using .loc[row_indexer,col_indexer] = value instead\n",
      "\n",
      "See the caveats in the documentation: https://pandas.pydata.org/pandas-docs/stable/user_guide/indexing.html#returning-a-view-versus-a-copy\n",
      "  imdbdataset['Year'] = imdbdataset['Year'].str.replace(r'[()]', '', regex=True).astype(int)\n"
     ]
    }
   ],
   "source": [
    "imdbdataset['Year'] = imdbdataset['Year'].str.replace(r'[()]', '', regex=True).astype(int)"
   ]
  },
  {
   "cell_type": "markdown",
   "id": "121959f9-4477-4ce7-a13c-ec345b33cfbb",
   "metadata": {},
   "source": [
    "Remove the min word from 'Duration' column "
   ]
  },
  {
   "cell_type": "code",
   "execution_count": 106,
   "id": "e9696fc7-01bc-4429-a0e1-ec4cd2ad3d66",
   "metadata": {},
   "outputs": [
    {
     "name": "stderr",
     "output_type": "stream",
     "text": [
      "C:\\Users\\RGUKT\\AppData\\Local\\Temp\\ipykernel_6132\\2803055615.py:1: SettingWithCopyWarning: \n",
      "A value is trying to be set on a copy of a slice from a DataFrame.\n",
      "Try using .loc[row_indexer,col_indexer] = value instead\n",
      "\n",
      "See the caveats in the documentation: https://pandas.pydata.org/pandas-docs/stable/user_guide/indexing.html#returning-a-view-versus-a-copy\n",
      "  imdbdataset['Duration'] = pd.to_numeric(imdbdataset['Duration'].str.replace('min', ''))\n"
     ]
    }
   ],
   "source": [
    "imdbdataset['Duration'] = pd.to_numeric(imdbdataset['Duration'].str.replace('min', ''))"
   ]
  },
  {
   "cell_type": "markdown",
   "id": "f3af3687-d9a2-450d-8472-624c92d01559",
   "metadata": {},
   "source": [
    "only keep the unique genres and replace the null values with mode"
   ]
  },
  {
   "cell_type": "code",
   "execution_count": 107,
   "id": "8d94cfad-e1c0-42f2-bcc3-d25e0eba67e2",
   "metadata": {},
   "outputs": [
    {
     "name": "stderr",
     "output_type": "stream",
     "text": [
      "C:\\Users\\RGUKT\\AppData\\Local\\Temp\\ipykernel_6132\\2151016733.py:1: SettingWithCopyWarning: \n",
      "A value is trying to be set on a copy of a slice from a DataFrame.\n",
      "Try using .loc[row_indexer,col_indexer] = value instead\n",
      "\n",
      "See the caveats in the documentation: https://pandas.pydata.org/pandas-docs/stable/user_guide/indexing.html#returning-a-view-versus-a-copy\n",
      "  imdbdataset['Genre'] = imdbdataset['Genre'].str.split(', ')\n",
      "C:\\Users\\RGUKT\\AppData\\Local\\Temp\\ipykernel_6132\\2151016733.py:3: FutureWarning: A value is trying to be set on a copy of a DataFrame or Series through chained assignment using an inplace method.\n",
      "The behavior will change in pandas 3.0. This inplace method will never work because the intermediate object on which we are setting values always behaves as a copy.\n",
      "\n",
      "For example, when doing 'df[col].method(value, inplace=True)', try using 'df.method({col: value}, inplace=True)' or df[col] = df[col].method(value) instead, to perform the operation inplace on the original object.\n",
      "\n",
      "\n",
      "  imdbdataset['Genre'].fillna(imdbdataset['Genre'].mode()[0], inplace = True)\n"
     ]
    }
   ],
   "source": [
    "imdbdataset['Genre'] = imdbdataset['Genre'].str.split(', ')\n",
    "imdbdataset = imdbdataset.explode('Genre')\n",
    "imdbdataset['Genre'].fillna(imdbdataset['Genre'].mode()[0], inplace = True)"
   ]
  },
  {
   "cell_type": "markdown",
   "id": "6b157472-f0d6-4f69-b56f-1703fbf98dbf",
   "metadata": {},
   "source": [
    "convert votes to numeric and remove comma"
   ]
  },
  {
   "cell_type": "code",
   "execution_count": 108,
   "id": "65173376-4749-4782-b4ea-835485a2149a",
   "metadata": {},
   "outputs": [],
   "source": [
    "imdbdataset['Votes'] = pd.to_numeric(imdbdataset['Votes'].str.replace(',', ''))"
   ]
  },
  {
   "cell_type": "markdown",
   "id": "8e8c3108-c636-43bf-a9a7-ee85e38bf487",
   "metadata": {},
   "source": [
    "calculate the average rating by year and genre"
   ]
  },
  {
   "cell_type": "code",
   "execution_count": 109,
   "id": "60eddc5b-e4db-4b1f-96ad-99572a952302",
   "metadata": {},
   "outputs": [
    {
     "data": {
      "text/html": [
       "<div>\n",
       "<style scoped>\n",
       "    .dataframe tbody tr th:only-of-type {\n",
       "        vertical-align: middle;\n",
       "    }\n",
       "\n",
       "    .dataframe tbody tr th {\n",
       "        vertical-align: top;\n",
       "    }\n",
       "\n",
       "    .dataframe thead th {\n",
       "        text-align: right;\n",
       "    }\n",
       "</style>\n",
       "<table border=\"1\" class=\"dataframe\">\n",
       "  <thead>\n",
       "    <tr style=\"text-align: right;\">\n",
       "      <th></th>\n",
       "      <th>Year</th>\n",
       "      <th>Genre</th>\n",
       "      <th>Rating</th>\n",
       "    </tr>\n",
       "  </thead>\n",
       "  <tbody>\n",
       "    <tr>\n",
       "      <th>0</th>\n",
       "      <td>1931</td>\n",
       "      <td>Drama</td>\n",
       "      <td>5.750000</td>\n",
       "    </tr>\n",
       "    <tr>\n",
       "      <th>1</th>\n",
       "      <td>1931</td>\n",
       "      <td>Fantasy</td>\n",
       "      <td>6.200000</td>\n",
       "    </tr>\n",
       "    <tr>\n",
       "      <th>2</th>\n",
       "      <td>1932</td>\n",
       "      <td>Musical</td>\n",
       "      <td>6.000000</td>\n",
       "    </tr>\n",
       "    <tr>\n",
       "      <th>3</th>\n",
       "      <td>1932</td>\n",
       "      <td>Romance</td>\n",
       "      <td>6.000000</td>\n",
       "    </tr>\n",
       "    <tr>\n",
       "      <th>4</th>\n",
       "      <td>1933</td>\n",
       "      <td>Drama</td>\n",
       "      <td>6.200000</td>\n",
       "    </tr>\n",
       "    <tr>\n",
       "      <th>...</th>\n",
       "      <td>...</td>\n",
       "      <td>...</td>\n",
       "      <td>...</td>\n",
       "    </tr>\n",
       "    <tr>\n",
       "      <th>1077</th>\n",
       "      <td>2021</td>\n",
       "      <td>Mystery</td>\n",
       "      <td>5.500000</td>\n",
       "    </tr>\n",
       "    <tr>\n",
       "      <th>1078</th>\n",
       "      <td>2021</td>\n",
       "      <td>Romance</td>\n",
       "      <td>6.336364</td>\n",
       "    </tr>\n",
       "    <tr>\n",
       "      <th>1079</th>\n",
       "      <td>2021</td>\n",
       "      <td>Sci-Fi</td>\n",
       "      <td>9.300000</td>\n",
       "    </tr>\n",
       "    <tr>\n",
       "      <th>1080</th>\n",
       "      <td>2021</td>\n",
       "      <td>Sport</td>\n",
       "      <td>5.400000</td>\n",
       "    </tr>\n",
       "    <tr>\n",
       "      <th>1081</th>\n",
       "      <td>2021</td>\n",
       "      <td>Thriller</td>\n",
       "      <td>5.354545</td>\n",
       "    </tr>\n",
       "  </tbody>\n",
       "</table>\n",
       "<p>1082 rows × 3 columns</p>\n",
       "</div>"
      ],
      "text/plain": [
       "      Year     Genre    Rating\n",
       "0     1931     Drama  5.750000\n",
       "1     1931   Fantasy  6.200000\n",
       "2     1932   Musical  6.000000\n",
       "3     1932   Romance  6.000000\n",
       "4     1933     Drama  6.200000\n",
       "...    ...       ...       ...\n",
       "1077  2021   Mystery  5.500000\n",
       "1078  2021   Romance  6.336364\n",
       "1079  2021    Sci-Fi  9.300000\n",
       "1080  2021     Sport  5.400000\n",
       "1081  2021  Thriller  5.354545\n",
       "\n",
       "[1082 rows x 3 columns]"
      ]
     },
     "execution_count": 109,
     "metadata": {},
     "output_type": "execute_result"
    }
   ],
   "source": [
    "avg_rating_by_year = imdbdataset.groupby(['Year', 'Genre'])['Rating'].mean().reset_index()\n",
    "avg_rating_by_year"
   ]
  },
  {
   "cell_type": "markdown",
   "id": "53f290e8-cc71-49b7-bac2-5d4bc5948865",
   "metadata": {},
   "source": [
    "get the top ten genres"
   ]
  },
  {
   "cell_type": "code",
   "execution_count": 110,
   "id": "0b1749fe-9342-404d-8636-d6747b572a00",
   "metadata": {},
   "outputs": [
    {
     "data": {
      "text/plain": [
       "Index(['Drama', 'Action', 'Romance', 'Comedy', 'Crime', 'Thriller', 'Family',\n",
       "       'Musical', 'Mystery', 'Adventure'],\n",
       "      dtype='object', name='Genre')"
      ]
     },
     "execution_count": 110,
     "metadata": {},
     "output_type": "execute_result"
    }
   ],
   "source": [
    "top_genres = imdbdataset['Genre'].value_counts().head(10).index\n",
    "top_genres"
   ]
  },
  {
   "cell_type": "markdown",
   "id": "4e65b837-3b48-48b3-9e73-9d45b9ceac7c",
   "metadata": {},
   "source": [
    "filter the data to include only the top three genres"
   ]
  },
  {
   "cell_type": "code",
   "execution_count": 111,
   "id": "b115b2d8-c530-4350-b6ec-3d1384a20564",
   "metadata": {},
   "outputs": [
    {
     "data": {
      "text/html": [
       "<div>\n",
       "<style scoped>\n",
       "    .dataframe tbody tr th:only-of-type {\n",
       "        vertical-align: middle;\n",
       "    }\n",
       "\n",
       "    .dataframe tbody tr th {\n",
       "        vertical-align: top;\n",
       "    }\n",
       "\n",
       "    .dataframe thead th {\n",
       "        text-align: right;\n",
       "    }\n",
       "</style>\n",
       "<table border=\"1\" class=\"dataframe\">\n",
       "  <thead>\n",
       "    <tr style=\"text-align: right;\">\n",
       "      <th></th>\n",
       "      <th>Year</th>\n",
       "      <th>Genre</th>\n",
       "      <th>Rating</th>\n",
       "    </tr>\n",
       "  </thead>\n",
       "  <tbody>\n",
       "    <tr>\n",
       "      <th>0</th>\n",
       "      <td>1931</td>\n",
       "      <td>Drama</td>\n",
       "      <td>5.750000</td>\n",
       "    </tr>\n",
       "    <tr>\n",
       "      <th>2</th>\n",
       "      <td>1932</td>\n",
       "      <td>Musical</td>\n",
       "      <td>6.000000</td>\n",
       "    </tr>\n",
       "    <tr>\n",
       "      <th>3</th>\n",
       "      <td>1932</td>\n",
       "      <td>Romance</td>\n",
       "      <td>6.000000</td>\n",
       "    </tr>\n",
       "    <tr>\n",
       "      <th>4</th>\n",
       "      <td>1933</td>\n",
       "      <td>Drama</td>\n",
       "      <td>6.200000</td>\n",
       "    </tr>\n",
       "    <tr>\n",
       "      <th>5</th>\n",
       "      <td>1933</td>\n",
       "      <td>Romance</td>\n",
       "      <td>6.200000</td>\n",
       "    </tr>\n",
       "    <tr>\n",
       "      <th>...</th>\n",
       "      <td>...</td>\n",
       "      <td>...</td>\n",
       "      <td>...</td>\n",
       "    </tr>\n",
       "    <tr>\n",
       "      <th>1071</th>\n",
       "      <td>2021</td>\n",
       "      <td>Family</td>\n",
       "      <td>7.375000</td>\n",
       "    </tr>\n",
       "    <tr>\n",
       "      <th>1076</th>\n",
       "      <td>2021</td>\n",
       "      <td>Musical</td>\n",
       "      <td>4.100000</td>\n",
       "    </tr>\n",
       "    <tr>\n",
       "      <th>1077</th>\n",
       "      <td>2021</td>\n",
       "      <td>Mystery</td>\n",
       "      <td>5.500000</td>\n",
       "    </tr>\n",
       "    <tr>\n",
       "      <th>1078</th>\n",
       "      <td>2021</td>\n",
       "      <td>Romance</td>\n",
       "      <td>6.336364</td>\n",
       "    </tr>\n",
       "    <tr>\n",
       "      <th>1081</th>\n",
       "      <td>2021</td>\n",
       "      <td>Thriller</td>\n",
       "      <td>5.354545</td>\n",
       "    </tr>\n",
       "  </tbody>\n",
       "</table>\n",
       "<p>752 rows × 3 columns</p>\n",
       "</div>"
      ],
      "text/plain": [
       "      Year     Genre    Rating\n",
       "0     1931     Drama  5.750000\n",
       "2     1932   Musical  6.000000\n",
       "3     1932   Romance  6.000000\n",
       "4     1933     Drama  6.200000\n",
       "5     1933   Romance  6.200000\n",
       "...    ...       ...       ...\n",
       "1071  2021    Family  7.375000\n",
       "1076  2021   Musical  4.100000\n",
       "1077  2021   Mystery  5.500000\n",
       "1078  2021   Romance  6.336364\n",
       "1081  2021  Thriller  5.354545\n",
       "\n",
       "[752 rows x 3 columns]"
      ]
     },
     "execution_count": 111,
     "metadata": {},
     "output_type": "execute_result"
    }
   ],
   "source": [
    "average = avg_rating_by_year[avg_rating_by_year['Genre'].isin(top_genres)]\n",
    "average"
   ]
  },
  {
   "cell_type": "markdown",
   "id": "b79ebd86-f05e-42b5-b116-9b8abd017685",
   "metadata": {},
   "source": [
    "drop the name column"
   ]
  },
  {
   "cell_type": "code",
   "execution_count": 112,
   "id": "6d9d491b-4844-4c63-9ef9-ba6100639745",
   "metadata": {},
   "outputs": [],
   "source": [
    "imdbdataset.drop('Name', axis=1, inplace= True)"
   ]
  },
  {
   "cell_type": "markdown",
   "id": "45ebebae-edb1-48f4-aecf-7b24fab0b964",
   "metadata": {},
   "source": [
    "group the columns with average rating and create new feature"
   ]
  },
  {
   "cell_type": "code",
   "execution_count": 113,
   "id": "e96bd75b-1beb-4985-9328-da62c09d60b7",
   "metadata": {},
   "outputs": [],
   "source": [
    "genre_mean_rating = imdbdataset.groupby('Genre')['Rating'].transform('mean')\n",
    "imdbdataset['Genre_mean_rating'] = genre_mean_rating\n",
    "\n",
    "director_mean_rating = imdbdataset.groupby('Director')['Rating'].transform('mean')\n",
    "imdbdataset['Director_encoded'] = director_mean_rating\n",
    "\n",
    "actor1_mean_rating = imdbdataset.groupby('Actor 1')['Rating'].transform('mean')\n",
    "imdbdataset['Actor1_encoded'] = actor1_mean_rating\n",
    "\n",
    "actor2_mean_rating = imdbdataset.groupby('Actor 2')['Rating'].transform('mean')\n",
    "imdbdataset['Actor2_encoded'] = actor2_mean_rating\n",
    "\n",
    "actor3_mean_rating = imdbdataset.groupby('Actor 3')['Rating'].transform('mean')\n",
    "imdbdataset['Actor3_encoded'] = actor3_mean_rating\n"
   ]
  },
  {
   "cell_type": "markdown",
   "id": "1e03b671-91e7-4d22-9c10-46ea7b44a7c5",
   "metadata": {},
   "source": [
    "create predict and target variables"
   ]
  },
  {
   "cell_type": "code",
   "execution_count": 114,
   "id": "ad37ba82-cd70-49f1-9f64-df8c3daf2c59",
   "metadata": {},
   "outputs": [],
   "source": [
    "X = imdbdataset[['Year', 'Votes', 'Duration', 'Genre_mean_rating', 'Director_encoded', 'Actor1_encoded', 'Actor2_encoded', 'Actor3_encoded',]]\n",
    "Y = imdbdataset['Rating']"
   ]
  },
  {
   "cell_type": "markdown",
   "id": "324fd4f4-1f58-4c58-aef6-6a5495953953",
   "metadata": {},
   "source": [
    "split the data into training and testing parts"
   ]
  },
  {
   "cell_type": "code",
   "execution_count": 115,
   "id": "5dde2b71-f03c-4840-8008-8942047ed7be",
   "metadata": {},
   "outputs": [],
   "source": [
    "from sklearn.model_selection import train_test_split, cross_val_score\n",
    "\n",
    "X_train, X_test, Y_train, Y_test = train_test_split(X, Y, test_size = 0.2, random_state = 42)"
   ]
  },
  {
   "cell_type": "markdown",
   "id": "cdcdd9e8-c825-4012-8f31-093e8999c261",
   "metadata": {},
   "source": [
    "Train a LinearRegression model"
   ]
  },
  {
   "cell_type": "code",
   "execution_count": 116,
   "id": "e3e00ce7-00b4-4688-a316-ea94d337ebb7",
   "metadata": {},
   "outputs": [],
   "source": [
    "from sklearn.linear_model import LinearRegression\n",
    "\n",
    "model = LinearRegression()\n",
    "model.fit(X_train, Y_train)\n",
    "model_pred = model.predict(X_test)"
   ]
  },
  {
   "cell_type": "markdown",
   "id": "75434c22-90eb-421f-971c-181858ba8b49",
   "metadata": {},
   "source": [
    "Evaluate the model"
   ]
  },
  {
   "cell_type": "code",
   "execution_count": 117,
   "id": "5dec6767-fad4-43c3-a362-fff499637014",
   "metadata": {},
   "outputs": [
    {
     "name": "stdout",
     "output_type": "stream",
     "text": [
      "Mean Square error:  0.4465441653985704\n",
      "Mean absolute error:  0.4921902540765641\n",
      "R2 score:  0.7641133663863862\n"
     ]
    }
   ],
   "source": [
    "from sklearn.metrics import accuracy_score, mean_absolute_error, mean_squared_error, r2_score\n",
    "\n",
    "print('Mean Square error: ',mean_squared_error(Y_test, model_pred))\n",
    "print('Mean absolute error: ',mean_absolute_error(Y_test, model_pred))\n",
    "print('R2 score: ',r2_score(Y_test, model_pred))"
   ]
  },
  {
   "cell_type": "markdown",
   "id": "abf96cc6-7366-46ee-b610-c6210d05c5ac",
   "metadata": {},
   "source": [
    "Model Testing\n",
    "create a new dataframe with values close to the any of our existing data to evaluate"
   ]
  },
  {
   "cell_type": "code",
   "execution_count": 118,
   "id": "a41f6be6-2fb4-458a-b85b-be7e6d496883",
   "metadata": {},
   "outputs": [],
   "source": [
    "data = {'Year': [2019], 'Votes': [36], 'Duration':[111], 'Genre_mean_rating':[5.8], 'Director_encoded':[4.5], 'Actor1_encoded':[5.3], 'Actor2_encoded':[4.5], 'Actor3_encoded':[4.5]}\n",
    "trail = pd.DataFrame(data)"
   ]
  },
  {
   "cell_type": "markdown",
   "id": "e7c07864-d90e-4e99-a9c3-846bf75e83e2",
   "metadata": {},
   "source": [
    "predict the movie rating by entered data and display the predicted result from the model"
   ]
  },
  {
   "cell_type": "code",
   "execution_count": 119,
   "id": "699f013d-d079-4d79-b552-a63927d46ac1",
   "metadata": {},
   "outputs": [
    {
     "name": "stdout",
     "output_type": "stream",
     "text": [
      "predicted rating: 4.2074589621343295\n"
     ]
    }
   ],
   "source": [
    "predicted_rating = model.predict(trail)\n",
    "\n",
    "print('predicted rating:', predicted_rating[0])"
   ]
  },
  {
   "cell_type": "code",
   "execution_count": 120,
   "id": "091c887b-8d14-4618-b8a4-fdd1a295982e",
   "metadata": {},
   "outputs": [
    {
     "data": {
      "text/plain": [
       "1    7.0\n",
       "3    4.4\n",
       "3    4.4\n",
       "5    4.7\n",
       "5    4.7\n",
       "Name: Rating, dtype: float64"
      ]
     },
     "execution_count": 120,
     "metadata": {},
     "output_type": "execute_result"
    }
   ],
   "source": [
    "Y.head(5)"
   ]
  }
 ],
 "metadata": {
  "kernelspec": {
   "display_name": "Python 3 (ipykernel)",
   "language": "python",
   "name": "python3"
  },
  "language_info": {
   "codemirror_mode": {
    "name": "ipython",
    "version": 3
   },
   "file_extension": ".py",
   "mimetype": "text/x-python",
   "name": "python",
   "nbconvert_exporter": "python",
   "pygments_lexer": "ipython3",
   "version": "3.12.4"
  }
 },
 "nbformat": 4,
 "nbformat_minor": 5
}
